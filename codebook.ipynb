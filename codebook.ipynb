{
 "cells": [
  {
   "cell_type": "code",
   "execution_count": 1,
   "id": "4aa4fcd0",
   "metadata": {},
   "outputs": [],
   "source": [
    "import os\n",
    "from pathlib import Path\n",
    "\n",
    "import geopandas as gpd\n",
    "import numpy as np\n",
    "import pandas as pd\n",
    "import osmnx as ox"
   ]
  },
  {
   "cell_type": "code",
   "execution_count": 2,
   "id": "27b0b4b8",
   "metadata": {},
   "outputs": [],
   "source": [
    "population_grids_path = Path(os.environ[\"POPULATION_GRIDS_PATH\"])\n",
    "segregation_path = Path(os.environ[\"SEGREGATION_PATH\"])"
   ]
  },
  {
   "cell_type": "code",
   "execution_count": 3,
   "id": "26a43306",
   "metadata": {},
   "outputs": [],
   "source": [
    "df_agebs = (\n",
    "    gpd.read_file(\n",
    "        population_grids_path\n",
    "        / \"final\"\n",
    "        / \"zone_agebs\"\n",
    "        / \"shaped\"\n",
    "        / \"2020\"\n",
    "        / \"08.2.03.gpkg\",\n",
    "    )\n",
    "    .drop(columns=[\"POBTOT\"])\n",
    "    .set_index(\"CVEGEO\")\n",
    ")"
   ]
  },
  {
   "cell_type": "code",
   "execution_count": 4,
   "id": "70a92856",
   "metadata": {},
   "outputs": [],
   "source": [
    "df_census = (\n",
    "    pd.read_csv(\n",
    "        population_grids_path\n",
    "        / \"initial\"\n",
    "        / \"census\"\n",
    "        / \"INEGI\"\n",
    "        / \"2020\"\n",
    "        / \"conjunto_de_datos_ageb_urbana_08_cpv2020.csv\",\n",
    "        usecols=[\n",
    "            \"ENTIDAD\",\n",
    "            \"MUN\",\n",
    "            \"LOC\",\n",
    "            \"AGEB\",\n",
    "            \"NOM_LOC\",\n",
    "            \"POBTOT\",\n",
    "            \"P_0A2\",\n",
    "            \"P_3A5\",\n",
    "            \"P_60YMAS\",\n",
    "            \"P18YM_PB\",\n",
    "            \"P_18YMAS\",\n",
    "            \"GRAPROES\"\n",
    "        ],\n",
    "    )\n",
    "    .query(\"NOM_LOC == 'Total AGEB urbana'\")\n",
    "    .assign(\n",
    "        CVEGEO=lambda df: (\n",
    "            df[\"ENTIDAD\"].astype(str).str.zfill(2)\n",
    "            + df[\"MUN\"].astype(str).str.zfill(3)\n",
    "            + df[\"LOC\"].astype(str).str.zfill(4)\n",
    "            + df[\"AGEB\"].astype(str).str.zfill(4)\n",
    "        ),\n",
    "    )\n",
    "    .drop(columns=[\"ENTIDAD\", \"MUN\", \"LOC\", \"AGEB\", \"NOM_LOC\"])\n",
    "    .set_index(\"CVEGEO\")\n",
    "    .replace(\"*\", np.nan)\n",
    "    .astype(float)\n",
    ")"
   ]
  },
  {
   "cell_type": "code",
   "execution_count": 5,
   "id": "0f74daed",
   "metadata": {},
   "outputs": [],
   "source": [
    "df = df_agebs.join(df_census, how=\"inner\")"
   ]
  },
  {
   "cell_type": "code",
   "execution_count": 6,
   "id": "a1e26062",
   "metadata": {},
   "outputs": [],
   "source": [
    "rows = {}"
   ]
  },
  {
   "cell_type": "markdown",
   "id": "11330d7e",
   "metadata": {},
   "source": [
    "# Porcentaje población 0-5 años"
   ]
  },
  {
   "cell_type": "code",
   "execution_count": 7,
   "id": "cb5564cf",
   "metadata": {},
   "outputs": [],
   "source": [
    "rows[\"porcentaje_pob_0a5\"] = (df[\"P_0A2\"] + df[\"P_3A5\"]) / df[\"POBTOT\"]"
   ]
  },
  {
   "cell_type": "markdown",
   "id": "c30a2333",
   "metadata": {},
   "source": [
    "# Porcentaje de población >60"
   ]
  },
  {
   "cell_type": "code",
   "execution_count": 8,
   "id": "fbb5881e",
   "metadata": {},
   "outputs": [],
   "source": [
    "rows[\"porcentaje_pob_60\"] = df[\"P_60YMAS\"] / df[\"POBTOT\"]"
   ]
  },
  {
   "cell_type": "markdown",
   "id": "17930041",
   "metadata": {},
   "source": [
    "# Porcentaje de población con menos de preparatoria terminada"
   ]
  },
  {
   "cell_type": "code",
   "execution_count": 9,
   "id": "6704012b",
   "metadata": {},
   "outputs": [],
   "source": [
    "rows[\"porcentaje_menos_prepa_terminada\"] = (1 - df[\"P18YM_PB\"] / df[\"P_18YMAS\"])"
   ]
  },
  {
   "cell_type": "markdown",
   "id": "1a218774",
   "metadata": {},
   "source": [
    "# Ingreso"
   ]
  },
  {
   "cell_type": "code",
   "execution_count": 10,
   "id": "99e74085",
   "metadata": {},
   "outputs": [],
   "source": [
    "rows[\"ingreso\"] = (\n",
    "    gpd.read_file(segregation_path / \"incomes\" / \"M08.04.gpkg\")\n",
    "    .rename(columns={\"cvegeo\": \"CVEGEO\"})\n",
    "    .set_index(\"CVEGEO\")\n",
    "    [\"income_pc\"]\n",
    ")"
   ]
  },
  {
   "cell_type": "markdown",
   "id": "f12a712c",
   "metadata": {},
   "source": [
    "# Accesibilidad"
   ]
  },
  {
   "cell_type": "markdown",
   "id": "24e79ad9",
   "metadata": {},
   "source": [
    "## Gráfica"
   ]
  },
  {
   "cell_type": "code",
   "execution_count": 15,
   "id": "32f329c4",
   "metadata": {},
   "outputs": [],
   "source": [
    "bounds = tuple(float(x) for x in df.to_crs(\"EPSG:4326\").total_bounds)\n",
    "g = ox.graph_from_bbox(bounds)"
   ]
  },
  {
   "cell_type": "code",
   "execution_count": 18,
   "id": "881f2d62",
   "metadata": {},
   "outputs": [
    {
     "data": {
      "text/plain": [
       "277278"
      ]
     },
     "execution_count": 18,
     "metadata": {},
     "output_type": "execute_result"
    }
   ],
   "source": [
    "len(g.edges)"
   ]
  }
 ],
 "metadata": {
  "kernelspec": {
   "display_name": ".venv",
   "language": "python",
   "name": "python3"
  },
  "language_info": {
   "codemirror_mode": {
    "name": "ipython",
    "version": 3
   },
   "file_extension": ".py",
   "mimetype": "text/x-python",
   "name": "python",
   "nbconvert_exporter": "python",
   "pygments_lexer": "ipython3",
   "version": "3.12.9"
  }
 },
 "nbformat": 4,
 "nbformat_minor": 5
}
