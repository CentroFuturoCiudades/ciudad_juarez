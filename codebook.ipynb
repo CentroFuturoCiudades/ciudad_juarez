{
 "cells": [
  {
   "cell_type": "code",
   "execution_count": 1,
   "id": "4aa4fcd0",
   "metadata": {},
   "outputs": [],
   "source": [
    "import os\n",
    "from pathlib import Path\n",
    "\n",
    "import geopandas as gpd\n",
    "import numpy as np\n",
    "import osmnx as ox\n",
    "import pandana as pdna\n",
    "import pandas as pd"
   ]
  },
  {
   "cell_type": "code",
   "execution_count": 2,
   "id": "27b0b4b8",
   "metadata": {},
   "outputs": [],
   "source": [
    "data_path = Path(os.environ[\"DATA_PATH\"])\n",
    "population_grids_path = Path(os.environ[\"POPULATION_GRIDS_PATH\"])\n",
    "segregation_path = Path(os.environ[\"SEGREGATION_PATH\"])\n",
    "census_path = Path(os.environ[\"CENSUS_PATH\"])\n",
    "geostatistical_framework_path = Path(os.environ[\"GEOSTATISTICAL_FRAMEWORK_PATH\"])"
   ]
  },
  {
   "cell_type": "markdown",
   "id": "783d0645",
   "metadata": {},
   "source": [
    "# DataFrames"
   ]
  },
  {
   "cell_type": "markdown",
   "id": "525dca96",
   "metadata": {},
   "source": [
    "## Census"
   ]
  },
  {
   "cell_type": "code",
   "execution_count": 3,
   "id": "918c5244",
   "metadata": {},
   "outputs": [],
   "source": [
    "df_census_base = pd.read_csv(\n",
    "    census_path / \"2020\" / \"08.csv\",\n",
    "    usecols=[\n",
    "        \"ENTIDAD\",\n",
    "        \"MUN\",\n",
    "        \"LOC\",\n",
    "        \"AGEB\",\n",
    "        \"MZA\",\n",
    "        \"NOM_LOC\",\n",
    "        \"POBTOT\",\n",
    "        \"P_0A2\",\n",
    "        \"P_3A5\",\n",
    "        \"P_60YMAS\",\n",
    "        \"P18YM_PB\",\n",
    "        \"P_18YMAS\",\n",
    "        \"GRAPROES\",\n",
    "    ],\n",
    ")"
   ]
  },
  {
   "cell_type": "markdown",
   "id": "976e7386",
   "metadata": {},
   "source": [
    "## AGEBs"
   ]
  },
  {
   "cell_type": "code",
   "execution_count": 4,
   "id": "26a43306",
   "metadata": {},
   "outputs": [],
   "source": [
    "df_geom_agebs = (\n",
    "    gpd.read_file(\n",
    "        population_grids_path\n",
    "        / \"final\"\n",
    "        / \"zone_agebs\"\n",
    "        / \"shaped\"\n",
    "        / \"2020\"\n",
    "        / \"08.2.03.gpkg\",\n",
    "    )\n",
    "    .drop(columns=[\"POBTOT\"])\n",
    "    .set_index(\"CVEGEO\")\n",
    ")\n",
    "\n",
    "df_census_agebs = (\n",
    "    df_census_base.query(\"NOM_LOC == 'Total AGEB urbana'\")\n",
    "    .assign(\n",
    "        CVEGEO=lambda df: (\n",
    "            df[\"ENTIDAD\"].astype(str).str.zfill(2)\n",
    "            + df[\"MUN\"].astype(str).str.zfill(3)\n",
    "            + df[\"LOC\"].astype(str).str.zfill(4)\n",
    "            + df[\"AGEB\"].astype(str).str.zfill(4)\n",
    "        ),\n",
    "    )\n",
    "    .drop(columns=[\"ENTIDAD\", \"MUN\", \"LOC\", \"AGEB\", \"NOM_LOC\"])\n",
    "    .set_index(\"CVEGEO\")\n",
    "    .replace(\"*\", np.nan)\n",
    "    .astype(float)\n",
    ")\n",
    "\n",
    "df = df_geom_agebs.join(df_census_agebs, how=\"inner\")"
   ]
  },
  {
   "cell_type": "markdown",
   "id": "0f56cc6b",
   "metadata": {},
   "source": [
    "## Blocks"
   ]
  },
  {
   "cell_type": "code",
   "execution_count": 37,
   "id": "70a92856",
   "metadata": {},
   "outputs": [],
   "source": [
    "df_geom_blocks = (\n",
    "    gpd.read_file(geostatistical_framework_path / \"2020\" / \"08_chihuahua\" / \"08m.shp\")\n",
    "    .assign(CVEGEO_AGEB=lambda x: x.CVEGEO.str[:13])\n",
    "    .query(\"CVEGEO_AGEB in @df_geom_agebs.index\")\n",
    "    .set_index(\"CVEGEO\")\n",
    "    .to_crs(\"EPSG:6372\")\n",
    ")\n",
    "\n",
    "\n",
    "df_census_blocks = (\n",
    "    df_census_base.assign(\n",
    "        CVEGEO=lambda df: (\n",
    "            df[\"ENTIDAD\"].astype(str).str.zfill(2)\n",
    "            + df[\"MUN\"].astype(str).str.zfill(3)\n",
    "            + df[\"LOC\"].astype(str).str.zfill(4)\n",
    "            + df[\"AGEB\"].astype(str).str.zfill(4)\n",
    "            + df[\"MZA\"].astype(str).str.zfill(3)\n",
    "        ),\n",
    "    )\n",
    "    .drop(columns=[\"ENTIDAD\", \"MUN\", \"LOC\", \"AGEB\", \"MZA\", \"NOM_LOC\"])\n",
    "    .set_index(\"CVEGEO\")\n",
    "    .replace([\"*\", \"N/D\"], np.nan)\n",
    "    .astype(float)\n",
    ")\n",
    "\n",
    "df_blocks = df_geom_blocks.join(df_census_blocks, how=\"inner\")"
   ]
  },
  {
   "cell_type": "markdown",
   "id": "8800b3d3",
   "metadata": {},
   "source": [
    "# Gráfica"
   ]
  },
  {
   "cell_type": "code",
   "execution_count": 6,
   "id": "4ea09ee1",
   "metadata": {},
   "outputs": [],
   "source": [
    "bounds = tuple(float(x) for x in df.to_crs(\"EPSG:4326\").total_bounds)\n",
    "\n",
    "g = ox.graph_from_bbox(bounds, network_type=\"drive\")\n",
    "g = ox.project_graph(g, to_crs=\"EPSG:6372\")\n",
    "g = ox.add_edge_speeds(g)\n",
    "g = ox.add_edge_travel_times(g)"
   ]
  },
  {
   "cell_type": "code",
   "execution_count": 39,
   "id": "8311b34e",
   "metadata": {},
   "outputs": [],
   "source": [
    "coords = df_blocks.centroid.get_coordinates()\n",
    "df_blocks[\"node_id\"] = ox.nearest_nodes(g, coords[\"x\"], coords[\"y\"])"
   ]
  },
  {
   "cell_type": "code",
   "execution_count": 7,
   "id": "e4c6825f",
   "metadata": {},
   "outputs": [],
   "source": [
    "df_nodes, df_edges = ox.graph_to_gdfs(g, nodes=True, edges=True)\n",
    "df_edges = df_edges.reset_index()"
   ]
  },
  {
   "cell_type": "code",
   "execution_count": 8,
   "id": "80a44ad9",
   "metadata": {},
   "outputs": [],
   "source": [
    "net = pdna.Network(\n",
    "    df_nodes[\"x\"],\n",
    "    df_nodes[\"y\"],\n",
    "    df_edges[\"u\"],\n",
    "    df_edges[\"v\"],\n",
    "    df_edges[[\"travel_time\"]],\n",
    ")\n",
    "net.precompute(3600)"
   ]
  },
  {
   "cell_type": "markdown",
   "id": "46861a87",
   "metadata": {},
   "source": [
    "# Stats"
   ]
  },
  {
   "cell_type": "code",
   "execution_count": 9,
   "id": "0763beb5",
   "metadata": {},
   "outputs": [],
   "source": [
    "rows = {}"
   ]
  },
  {
   "cell_type": "markdown",
   "id": "11330d7e",
   "metadata": {},
   "source": [
    "## Porcentaje población 0-5 años"
   ]
  },
  {
   "cell_type": "code",
   "execution_count": 10,
   "id": "cb5564cf",
   "metadata": {},
   "outputs": [],
   "source": [
    "rows[\"porcentaje_pob_0a5\"] = (df[\"P_0A2\"] + df[\"P_3A5\"]) / df[\"POBTOT\"]"
   ]
  },
  {
   "cell_type": "markdown",
   "id": "c30a2333",
   "metadata": {},
   "source": [
    "## Porcentaje de población >60"
   ]
  },
  {
   "cell_type": "code",
   "execution_count": 11,
   "id": "fbb5881e",
   "metadata": {},
   "outputs": [],
   "source": [
    "rows[\"porcentaje_pob_60\"] = df[\"P_60YMAS\"] / df[\"POBTOT\"]"
   ]
  },
  {
   "cell_type": "markdown",
   "id": "17930041",
   "metadata": {},
   "source": [
    "## Porcentaje de población con menos de preparatoria terminada"
   ]
  },
  {
   "cell_type": "code",
   "execution_count": 12,
   "id": "6704012b",
   "metadata": {},
   "outputs": [],
   "source": [
    "rows[\"porcentaje_menos_prepa_terminada\"] = 1 - df[\"P18YM_PB\"] / df[\"P_18YMAS\"]"
   ]
  },
  {
   "cell_type": "markdown",
   "id": "1a218774",
   "metadata": {},
   "source": [
    "## Ingreso"
   ]
  },
  {
   "cell_type": "code",
   "execution_count": 13,
   "id": "99e74085",
   "metadata": {},
   "outputs": [],
   "source": [
    "rows[\"ingreso\"] = (\n",
    "    gpd.read_file(segregation_path / \"incomes\" / \"M08.04.gpkg\")\n",
    "    .rename(columns={\"cvegeo\": \"CVEGEO\"})\n",
    "    .set_index(\"CVEGEO\")[\"income_pc\"]\n",
    ")"
   ]
  },
  {
   "cell_type": "code",
   "execution_count": 14,
   "id": "27a5a056",
   "metadata": {},
   "outputs": [],
   "source": [
    "columns = []\n",
    "for key, value in rows.items():\n",
    "    columns.append(value.rename(key))\n",
    "out = pd.concat(columns, axis=1).join(df[[\"geometry\"]])\n",
    "out = gpd.GeoDataFrame(out, crs=df.crs, geometry=\"geometry\")"
   ]
  },
  {
   "cell_type": "markdown",
   "id": "f12a712c",
   "metadata": {},
   "source": [
    "# Accesibilidad"
   ]
  },
  {
   "cell_type": "code",
   "execution_count": 62,
   "id": "87b34ea2",
   "metadata": {},
   "outputs": [],
   "source": [
    "def calculate_weighted_accessibility(\n",
    "    net: pdna.Network,\n",
    "    coords: pd.DataFrame,\n",
    "    poi_type: str,\n",
    "    df_blocks: gpd.GeoDataFrame,\n",
    "    *,\n",
    "    weight_col: str = \"POBTOT\",\n",
    ") -> pd.Series:\n",
    "    net.set_pois(poi_type, 3600, 1, coords[\"x\"], coords[\"y\"])\n",
    "    res = (\n",
    "        net.nearest_pois(3600, poi_type)\n",
    "        .rename(columns={1: \"travel_time\"})\n",
    "        .reset_index(names=\"node_id\")\n",
    "    )\n",
    "    return (\n",
    "        df_blocks.merge(res, on=\"node_id\", how=\"left\")\n",
    "        .assign(num=lambda df: df[weight_col] * df[\"travel_time\"])\n",
    "        .groupby(\"CVEGEO_AGEB\")\n",
    "        .agg(\n",
    "            {\n",
    "                \"num\": \"sum\",\n",
    "                weight_col: \"sum\",\n",
    "            },\n",
    "        )\n",
    "        .assign(**{f\"{poi_type}_travel_time\": lambda df: df[\"num\"] / df[weight_col]})[\n",
    "            f\"{poi_type}_travel_time\"\n",
    "        ]\n",
    "        .rename_axis(\"CVEGEO\")\n",
    "    )"
   ]
  },
  {
   "cell_type": "markdown",
   "id": "23ce3306",
   "metadata": {},
   "source": [
    "## Hospitales"
   ]
  },
  {
   "cell_type": "code",
   "execution_count": null,
   "id": "881f2d62",
   "metadata": {},
   "outputs": [],
   "source": [
    "df_hospitals = (\n",
    "    gpd.read_file(data_path / \"datos\" / \"Unidad_Medica_Wgs84\")\n",
    "    .reset_index(drop=True)\n",
    "    .filter([\"geometry\"])\n",
    "    .to_crs(\"EPSG:6372\")\n",
    ")\n",
    "\n",
    "rows[\"tiempo_viaje_hospitales\"] = calculate_weighted_accessibility(\n",
    "    net,\n",
    "    df_hospitals.get_coordinates(),\n",
    "    \"hospital\",\n",
    "    df_blocks\n",
    ") / 60"
   ]
  },
  {
   "cell_type": "markdown",
   "id": "79c9c6d8",
   "metadata": {},
   "source": [
    "## Preparatorias"
   ]
  },
  {
   "cell_type": "code",
   "execution_count": 75,
   "id": "9b6ad5d8",
   "metadata": {},
   "outputs": [],
   "source": [
    "df_highschools = (\n",
    "    gpd.read_file(data_path / \"datos\" / \"Preparatorias_Wgs84\")\n",
    "    .reset_index(drop=True)\n",
    "    .filter([\"geometry\"])\n",
    "    .to_crs(\"EPSG:6372\")\n",
    ")\n",
    "\n",
    "rows[\"tiempo_viaje_preparatorias\"] = calculate_weighted_accessibility(\n",
    "    net,\n",
    "    df_highschools.get_coordinates(),\n",
    "    \"highschool\",\n",
    "    df_blocks\n",
    ") / 60"
   ]
  },
  {
   "cell_type": "markdown",
   "id": "426555b5",
   "metadata": {},
   "source": [
    "# Out"
   ]
  },
  {
   "cell_type": "code",
   "execution_count": 83,
   "id": "e584337a",
   "metadata": {},
   "outputs": [],
   "source": [
    "out = gpd.GeoDataFrame(pd.DataFrame.from_dict(rows, orient=\"index\").transpose().join(df[[\"geometry\"]]), crs=df.crs, geometry=\"geometry\").to_crs(\"EPSG:4326\")\n",
    "out.to_file(\"./test.gpkg\")"
   ]
  }
 ],
 "metadata": {
  "kernelspec": {
   "display_name": "nad",
   "language": "python",
   "name": "python3"
  },
  "language_info": {
   "codemirror_mode": {
    "name": "ipython",
    "version": 3
   },
   "file_extension": ".py",
   "mimetype": "text/x-python",
   "name": "python",
   "nbconvert_exporter": "python",
   "pygments_lexer": "ipython3",
   "version": "3.12.8"
  }
 },
 "nbformat": 4,
 "nbformat_minor": 5
}
