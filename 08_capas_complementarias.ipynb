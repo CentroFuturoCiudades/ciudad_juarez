{
 "cells": [
  {
   "cell_type": "code",
   "execution_count": 18,
   "id": "74d68f86",
   "metadata": {},
   "outputs": [],
   "source": [
    "import os\n",
    "from pathlib import Path\n",
    "\n",
    "import geopandas as gpd\n",
    "import shapely\n",
    "\n",
    "from nad.load import load_ageb_geometry"
   ]
  },
  {
   "cell_type": "code",
   "execution_count": 19,
   "id": "88b23444",
   "metadata": {},
   "outputs": [],
   "source": [
    "data_path = Path(os.environ[\"DATA_PATH\"])\n",
    "population_grids_path = Path(os.environ[\"POPULATION_GRIDS_PATH\"])\n",
    "results_path = Path(\"./results\")"
   ]
  },
  {
   "cell_type": "markdown",
   "id": "388bd357",
   "metadata": {},
   "source": [
    "# Limite urbano"
   ]
  },
  {
   "cell_type": "code",
   "execution_count": 20,
   "id": "8f6ad380",
   "metadata": {},
   "outputs": [],
   "source": [
    "ageb_geom = load_ageb_geometry(\n",
    "    population_grids_path / \"final\" / \"zone_agebs\" / \"shaped\" / \"2020\" / \"08.2.03.gpkg\",\n",
    ")\n",
    "\n",
    "df_neighborhoods = (\n",
    "    gpd.read_file(results_path / \"platform\" / \"colonias.geojson\")\n",
    ").to_crs(ageb_geom.crs)\n",
    "\n",
    "\n",
    "df_limit = gpd.GeoDataFrame(\n",
    "    geometry=[\n",
    "        shapely.union(ageb_geom.union_all(), df_neighborhoods[\"geometry\"].union_all()),\n",
    "    ],\n",
    "    crs=ageb_geom.crs,\n",
    ").to_crs(\"EPSG:4326\")\n",
    "\n",
    "df_limit.to_file(results_path / \"platform\" / \"limite_urbano.geojson\")"
   ]
  },
  {
   "cell_type": "markdown",
   "id": "ba5579cf",
   "metadata": {},
   "source": [
    "# Vialidades"
   ]
  },
  {
   "cell_type": "code",
   "execution_count": 21,
   "id": "e9292479",
   "metadata": {},
   "outputs": [],
   "source": [
    "df_roads = gpd.read_file(data_path / \"datos\" / \"SAP_Vialildad_Primaria.geojson\")\n",
    "df_roads.to_crs(\"EPSG:4326\").to_file(results_path / \"platform\" / \"vialidades.geojson\")"
   ]
  }
 ],
 "metadata": {
  "kernelspec": {
   "display_name": "nad-py3.12",
   "language": "python",
   "name": "python3"
  },
  "language_info": {
   "codemirror_mode": {
    "name": "ipython",
    "version": 3
   },
   "file_extension": ".py",
   "mimetype": "text/x-python",
   "name": "python",
   "nbconvert_exporter": "python",
   "pygments_lexer": "ipython3",
   "version": "3.12.9"
  }
 },
 "nbformat": 4,
 "nbformat_minor": 5
}
