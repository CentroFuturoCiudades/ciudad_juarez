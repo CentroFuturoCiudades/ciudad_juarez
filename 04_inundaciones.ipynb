{
 "cells": [
  {
   "cell_type": "code",
   "execution_count": 10,
   "id": "f31fbf32",
   "metadata": {},
   "outputs": [],
   "source": [
    "import os\n",
    "from pathlib import Path\n",
    "\n",
    "import pandas as pd\n",
    "import rasterio as rio\n",
    "import rasterio.mask as rio_mask\n",
    "\n",
    "from nad.load import (\n",
    "    get_census_level,\n",
    "    load_ageb_geometry,\n",
    "    load_block_geometry,\n",
    "    load_census,\n",
    ")"
   ]
  },
  {
   "cell_type": "code",
   "execution_count": 16,
   "id": "2172f3b9",
   "metadata": {},
   "outputs": [],
   "source": [
    "data_path = Path(os.environ[\"DATA_PATH\"])\n",
    "geostatistical_framework_path = Path(os.environ[\"GEOSTATISTICAL_FRAMEWORK_PATH\"])\n",
    "census_path = Path(os.environ[\"CENSUS_PATH\"])\n",
    "population_grids_path = Path(os.environ[\"POPULATION_GRIDS_PATH\"])\n",
    "results_path = Path(\"./results\")"
   ]
  },
  {
   "cell_type": "markdown",
   "id": "929368ce",
   "metadata": {},
   "source": [
    "# Load"
   ]
  },
  {
   "cell_type": "markdown",
   "id": "1a36b801",
   "metadata": {},
   "source": [
    "## AGEBs"
   ]
  },
  {
   "cell_type": "code",
   "execution_count": 7,
   "id": "e71daabd",
   "metadata": {},
   "outputs": [],
   "source": [
    "df_geom_agebs = load_ageb_geometry(\n",
    "    population_grids_path / \"final\" / \"zone_agebs\" / \"shaped\" / \"2020\" / \"08.2.03.gpkg\",\n",
    ")"
   ]
  },
  {
   "cell_type": "markdown",
   "id": "a1d2a570",
   "metadata": {},
   "source": [
    "## Manzanas"
   ]
  },
  {
   "cell_type": "code",
   "execution_count": 8,
   "id": "1ffe0b81",
   "metadata": {},
   "outputs": [],
   "source": [
    "df_census_base = load_census(census_path / \"2020\" / \"08.csv\")\n",
    "df_census_blocks = get_census_level(df_census_base, level=\"block\")\n",
    "\n",
    "df_geom_blocks = load_block_geometry(\n",
    "    geostatistical_framework_path / \"2020\" / \"08_chihuahua\" / \"08m.shp\",\n",
    "    ageb_cvegeos=df_geom_agebs.index,\n",
    ")"
   ]
  },
  {
   "cell_type": "code",
   "execution_count": 9,
   "id": "e281fbc0",
   "metadata": {},
   "outputs": [],
   "source": [
    "is_flooded = {}\n",
    "\n",
    "with rio.open(\n",
    "    data_path / \"datos\" / \"CdJuarez_60min\" / \"CdJuarez_60Min_Reclass.tif\",\n",
    "    \"r\",\n",
    ") as ds:\n",
    "    df_reprojected = df_geom_blocks.to_crs(ds.crs)\n",
    "\n",
    "    for idx, geom in df_reprojected[\"geometry\"].items():\n",
    "        masked, _ = rio_mask.mask(ds, [geom], crop=True)\n",
    "        is_flooded[idx] = (masked > 5).any()"
   ]
  },
  {
   "cell_type": "code",
   "execution_count": 17,
   "id": "4941444d",
   "metadata": {},
   "outputs": [],
   "source": [
    "pd.Series(is_flooded, name=\"is_flooded\").to_frame().rename_axis(\n",
    "    \"CVEGEO\",\n",
    "    axis=0,\n",
    ").to_csv(results_path / \"flooded_blocks.csv\")"
   ]
  }
 ],
 "metadata": {
  "kernelspec": {
   "display_name": "nad-py3.12",
   "language": "python",
   "name": "python3"
  },
  "language_info": {
   "codemirror_mode": {
    "name": "ipython",
    "version": 3
   },
   "file_extension": ".py",
   "mimetype": "text/x-python",
   "name": "python",
   "nbconvert_exporter": "python",
   "pygments_lexer": "ipython3",
   "version": "3.12.9"
  }
 },
 "nbformat": 4,
 "nbformat_minor": 5
}
