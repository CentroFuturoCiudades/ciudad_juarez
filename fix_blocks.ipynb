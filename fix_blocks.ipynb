{
 "cells": [
  {
   "cell_type": "code",
   "execution_count": 90,
   "id": "72ac6b28",
   "metadata": {},
   "outputs": [],
   "source": [
    "import os\n",
    "from pathlib import Path\n",
    "\n",
    "import geopandas as gpd"
   ]
  },
  {
   "cell_type": "code",
   "execution_count": 91,
   "id": "f3dc3c71",
   "metadata": {},
   "outputs": [],
   "source": [
    "data_path = Path(os.environ[\"DATA_PATH\"])\n",
    "population_grids_path = Path(os.environ[\"POPULATION_GRIDS_PATH\"])\n",
    "segregation_path = Path(os.environ[\"SEGREGATION_PATH\"])\n",
    "geostatistical_framework_path = Path(os.environ[\"GEOSTATISTICAL_FRAMEWORK_PATH\"])"
   ]
  },
  {
   "cell_type": "code",
   "execution_count": 92,
   "id": "d2cb4061",
   "metadata": {},
   "outputs": [],
   "source": [
    "df_agebs = (\n",
    "    gpd.read_file(\n",
    "        population_grids_path\n",
    "        / \"final\"\n",
    "        / \"zone_agebs\"\n",
    "        / \"shaped\"\n",
    "        / \"2020\"\n",
    "        / \"08.2.03.gpkg\",\n",
    "    )\n",
    "    .drop(columns=[\"POBTOT\"])\n",
    "    .set_index(\"CVEGEO\")\n",
    ")\n",
    "\n",
    "df_blocks = (\n",
    "    gpd.read_file(geostatistical_framework_path / \"2020\" / \"08_chihuahua\" / \"08m.shp\")\n",
    "    .assign(CVEGEO_AGEB=lambda x: x.CVEGEO.str[:13])\n",
    "    .query(\"CVEGEO_AGEB in @df_agebs.index\")\n",
    "    .drop(columns=[\"CVEGEO_AGEB\"])\n",
    "    .set_index(\"CVEGEO\")\n",
    "    .to_crs(\"EPSG:6372\")\n",
    ")"
   ]
  },
  {
   "cell_type": "code",
   "execution_count": 95,
   "id": "5e687466",
   "metadata": {},
   "outputs": [],
   "source": [
    "df_neighborhoods = (\n",
    "    gpd.read_file(\"./neighborhoods.gpkg\")\n",
    "    .filter([\"NOMBRE\", \"ID\", \"geometry\"])\n",
    "    .drop_duplicates(subset=[\"geometry\"])\n",
    "    .to_crs(\"EPSG:6372\")\n",
    "    .query(\"~NOMBRE.isin(['SIN COLONIA', 'SIN NOMBRE'])\")\n",
    "    .query(\"~ID.isin([3500, 2955])\")\n",
    ")"
   ]
  },
  {
   "cell_type": "code",
   "execution_count": 96,
   "id": "a1cbd3e4",
   "metadata": {},
   "outputs": [],
   "source": [
    "self_intersections = (\n",
    "    df_neighborhoods.sjoin(df_neighborhoods, how=\"inner\", predicate=\"within\")\n",
    "    .reset_index(names=\"index_left\")\n",
    "    .query(\"index_left != index_right\")\n",
    ")\n",
    "\n",
    "whole = df_neighborhoods[~df_neighborhoods.index.isin(self_intersections.index_left)]\n",
    "\n",
    "self_intersections.to_file(\"./intersections.gpkg\")\n",
    "whole.to_file(\"./whole.gpkg\")"
   ]
  },
  {
   "cell_type": "code",
   "execution_count": 97,
   "id": "631fa089",
   "metadata": {},
   "outputs": [],
   "source": [
    "df_fixed = df_neighborhoods.copy()\n",
    "for _, row in self_intersections.iterrows():\n",
    "    outer = df_fixed.loc[row[\"index_right\"], \"geometry\"]\n",
    "    inner = df_fixed.loc[row[\"index_left\"], \"geometry\"]\n",
    "    df_fixed.loc[row[\"index_right\"], \"geometry\"] = outer.difference(inner)"
   ]
  },
  {
   "cell_type": "code",
   "execution_count": 89,
   "id": "e9003fd5",
   "metadata": {},
   "outputs": [],
   "source": [
    "df_fixed.to_file(\"./fixed.gpkg\")"
   ]
  },
  {
   "cell_type": "code",
   "execution_count": null,
   "id": "97029bbe",
   "metadata": {},
   "outputs": [],
   "source": []
  }
 ],
 "metadata": {
  "kernelspec": {
   "display_name": "nad",
   "language": "python",
   "name": "python3"
  },
  "language_info": {
   "codemirror_mode": {
    "name": "ipython",
    "version": 3
   },
   "file_extension": ".py",
   "mimetype": "text/x-python",
   "name": "python",
   "nbconvert_exporter": "python",
   "pygments_lexer": "ipython3",
   "version": "3.12.8"
  }
 },
 "nbformat": 4,
 "nbformat_minor": 5
}
