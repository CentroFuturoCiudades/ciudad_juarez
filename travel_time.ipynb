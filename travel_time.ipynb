{
 "cells": [
  {
   "cell_type": "code",
   "execution_count": null,
   "id": "3c428819",
   "metadata": {},
   "outputs": [],
   "source": [
    "import osmnx as ox"
   ]
  },
  {
   "cell_type": "markdown",
   "id": "675a5694",
   "metadata": {},
   "source": [
    "# Gráfica"
   ]
  },
  {
   "cell_type": "code",
   "execution_count": null,
   "id": "e3a30a50",
   "metadata": {},
   "outputs": [],
   "source": [
    "bounds = tuple(float(x) for x in df.to_crs(\"EPSG:4326\").total_bounds)\n",
    "\n",
    "g = ox.graph_from_bbox(bounds, network_type=\"drive\")\n",
    "g = ox.project_graph(g, to_crs=\"EPSG:6372\")\n",
    "g = ox.add_edge_speeds(g)\n",
    "g = ox.add_edge_travel_times(g)"
   ]
  },
  {
   "cell_type": "code",
   "execution_count": null,
   "id": "f51721a6",
   "metadata": {},
   "outputs": [],
   "source": [
    "coords = df_blocks.centroid.get_coordinates()\n",
    "df_blocks[\"node_id\"] = ox.nearest_nodes(g, coords[\"x\"], coords[\"y\"])"
   ]
  },
  {
   "cell_type": "code",
   "execution_count": null,
   "id": "1be03130",
   "metadata": {},
   "outputs": [],
   "source": [
    "df_nodes, df_edges = ox.graph_to_gdfs(g, nodes=True, edges=True)\n",
    "df_edges = df_edges.reset_index()"
   ]
  },
  {
   "cell_type": "code",
   "execution_count": null,
   "id": "72796daa",
   "metadata": {},
   "outputs": [
    {
     "name": "stdout",
     "output_type": "stream",
     "text": [
      "Generating contraction hierarchies with 1 threads.\n",
      "Setting CH node vector of size 54312\n",
      "Setting CH edge vector of size 146950\n",
      "Range graph removed 130470 edges of 293900\n",
      ". 10% . 20% . 30% . 40% . 50% . 60% . 70% . 80% . 90% . 100%\n"
     ]
    }
   ],
   "source": [
    "net = pdna.Network(\n",
    "    df_nodes[\"x\"],\n",
    "    df_nodes[\"y\"],\n",
    "    df_edges[\"u\"],\n",
    "    df_edges[\"v\"],\n",
    "    df_edges[[\"travel_time\"]],\n",
    ")\n",
    "net.precompute(3600)"
   ]
  },
  {
   "cell_type": "markdown",
   "id": "f9f357b9",
   "metadata": {},
   "source": [
    "# Accesibilidad"
   ]
  },
  {
   "cell_type": "code",
   "execution_count": null,
   "id": "237cc2f9",
   "metadata": {},
   "outputs": [],
   "source": [
    "def calculate_weighted_accessibility(\n",
    "    net: pdna.Network,\n",
    "    coords: pd.DataFrame,\n",
    "    poi_type: str,\n",
    "    df_blocks: gpd.GeoDataFrame,\n",
    "    *,\n",
    "    weight_col: str = \"POBTOT\",\n",
    ") -> pd.Series:\n",
    "    net.set_pois(poi_type, 3600, 1, coords[\"x\"], coords[\"y\"])\n",
    "    res = (\n",
    "        net.nearest_pois(3600, poi_type)\n",
    "        .rename(columns={1: \"travel_time\"})\n",
    "        .reset_index(names=\"node_id\")\n",
    "    )\n",
    "    return (\n",
    "        df_blocks.merge(res, on=\"node_id\", how=\"left\")\n",
    "        .assign(num=lambda df: df[weight_col] * df[\"travel_time\"])\n",
    "        .groupby(\"CVEGEO_AGEB\")\n",
    "        .agg(\n",
    "            {\n",
    "                \"num\": \"sum\",\n",
    "                weight_col: \"sum\",\n",
    "            },\n",
    "        )\n",
    "        .assign(**{f\"{poi_type}_travel_time\": lambda df: df[\"num\"] / df[weight_col]})[\n",
    "            f\"{poi_type}_travel_time\"\n",
    "        ]\n",
    "        .rename_axis(\"CVEGEO\")\n",
    "    )"
   ]
  },
  {
   "cell_type": "markdown",
   "id": "7c8f0ed3",
   "metadata": {},
   "source": [
    "## Hospitales"
   ]
  },
  {
   "cell_type": "code",
   "execution_count": null,
   "id": "46233f9f",
   "metadata": {},
   "outputs": [],
   "source": [
    "rows[\"tiempo_viaje_hospitales\"] = (\n",
    "    calculate_weighted_accessibility(\n",
    "        net,\n",
    "        df_hospitals.get_coordinates(),\n",
    "        \"hospital\",\n",
    "        df_blocks,\n",
    "    )\n",
    "    / 60\n",
    ")"
   ]
  },
  {
   "cell_type": "markdown",
   "id": "ed5ee042",
   "metadata": {},
   "source": [
    "## Preparatorias"
   ]
  },
  {
   "cell_type": "code",
   "execution_count": null,
   "id": "828c9e84",
   "metadata": {},
   "outputs": [],
   "source": [
    "rows[\"tiempo_viaje_preparatorias\"] = (\n",
    "    calculate_weighted_accessibility(\n",
    "        net,\n",
    "        df_highschools.get_coordinates(),\n",
    "        \"highschool\",\n",
    "        df_blocks,\n",
    "    )\n",
    "    / 60\n",
    ")"
   ]
  }
 ],
 "metadata": {
  "language_info": {
   "name": "python"
  }
 },
 "nbformat": 4,
 "nbformat_minor": 5
}
