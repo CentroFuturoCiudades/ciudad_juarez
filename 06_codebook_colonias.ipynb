{
 "cells": [
  {
   "cell_type": "code",
   "execution_count": 1,
   "id": "72ac6b28",
   "metadata": {},
   "outputs": [],
   "source": [
    "import json\n",
    "import os\n",
    "from pathlib import Path\n",
    "\n",
    "import geopandas as gpd\n",
    "import numpy as np\n",
    "import pandas as pd\n",
    "\n",
    "from nad.equip import intersect_gdf_with_equipments\n",
    "from nad.flooding import get_flooded_area\n",
    "from nad.load import get_census_level, load_all_equipments, load_census\n",
    "from nad.traffic import calculate_tdpa_exposure"
   ]
  },
  {
   "cell_type": "code",
   "execution_count": 2,
   "id": "f3dc3c71",
   "metadata": {},
   "outputs": [],
   "source": [
    "data_path = Path(os.environ[\"DATA_PATH\"])\n",
    "population_grids_path = Path(os.environ[\"POPULATION_GRIDS_PATH\"])\n",
    "segregation_path = Path(os.environ[\"SEGREGATION_PATH\"])\n",
    "geostatistical_framework_path = Path(os.environ[\"GEOSTATISTICAL_FRAMEWORK_PATH\"])\n",
    "census_path = Path(os.environ[\"CENSUS_PATH\"])\n",
    "results_path = Path(\"./results\")"
   ]
  },
  {
   "cell_type": "markdown",
   "id": "1ed790f5",
   "metadata": {},
   "source": [
    "# Fix"
   ]
  },
  {
   "cell_type": "code",
   "execution_count": 3,
   "id": "d2cb4061",
   "metadata": {},
   "outputs": [],
   "source": [
    "df_census_base = load_census(census_path / \"2020\" / \"08.csv\")\n",
    "df_census_blocks = get_census_level(df_census_base, level=\"block\")\n",
    "\n",
    "df_agebs = (\n",
    "    gpd.read_file(\n",
    "        population_grids_path\n",
    "        / \"final\"\n",
    "        / \"zone_agebs\"\n",
    "        / \"shaped\"\n",
    "        / \"2020\"\n",
    "        / \"08.2.03.gpkg\",\n",
    "    )\n",
    "    .drop(columns=[\"POBTOT\"])\n",
    "    .set_index(\"CVEGEO\")\n",
    ")\n",
    "\n",
    "df_geom_blocks = (\n",
    "    gpd.read_file(geostatistical_framework_path / \"2020\" / \"08_chihuahua\" / \"08m.shp\")\n",
    "    .assign(CVEGEO_AGEB=lambda df: df[\"CVEGEO\"].str[:13])\n",
    "    .query(\"CVEGEO_AGEB in @df_agebs.index\")\n",
    "    .drop(\n",
    "        columns=[\n",
    "            \"CVEGEO_AGEB\",\n",
    "            \"CVE_ENT\",\n",
    "            \"CVE_MUN\",\n",
    "            \"CVE_LOC\",\n",
    "            \"CVE_MZA\",\n",
    "            \"TIPOMZA\",\n",
    "            \"AMBITO\",\n",
    "            \"CVE_AGEB\",\n",
    "        ],\n",
    "    )\n",
    "    .set_index(\"CVEGEO\")\n",
    "    .to_crs(\"EPSG:6372\")\n",
    ")\n",
    "\n",
    "df_blocks = df_geom_blocks.join(df_census_blocks, how=\"inner\").fillna(0)"
   ]
  },
  {
   "cell_type": "code",
   "execution_count": 4,
   "id": "502151d1",
   "metadata": {},
   "outputs": [],
   "source": [
    "# wanted_ids = [2014, 3232, 3374]\n",
    "\n",
    "df_neighborhoods = (\n",
    "    gpd.read_file(data_path / \"datos\" / \"colonias_raw.geojson\")\n",
    "    .drop(columns=[\"ENTIDAD\", \"MUNICIPIO\", \"CONTROL\"])\n",
    "    .drop_duplicates(subset=[\"geometry\"])\n",
    "    .to_crs(\"EPSG:6372\")\n",
    "    .assign(orig_area=lambda df: df[\"geometry\"].area)\n",
    ")\n",
    "\n",
    "overlay = (\n",
    "    df_neighborhoods.overlay(df_agebs.reset_index())\n",
    "    .assign(area=lambda df: df[\"geometry\"].area)\n",
    "    .groupby(\"ID\")\n",
    "    .agg({\"area\": \"sum\", \"orig_area\": \"first\"})\n",
    "    .assign(area_frac=lambda df: df[\"area\"] / df[\"orig_area\"])\n",
    "    .fillna(0)\n",
    ")\n",
    "\n",
    "urban_neighborhoods = overlay[overlay[\"area_frac\"] >= 0.10].index\n",
    "\n",
    "df_neighborhoods = df_neighborhoods[df_neighborhoods[\"ID\"].isin(urban_neighborhoods)]"
   ]
  },
  {
   "cell_type": "code",
   "execution_count": 5,
   "id": "a1cbd3e4",
   "metadata": {},
   "outputs": [],
   "source": [
    "self_intersections = (\n",
    "    df_neighborhoods.sjoin(df_neighborhoods, how=\"inner\", predicate=\"within\")\n",
    "    .reset_index(names=\"index_left\")\n",
    "    .query(\"index_left != index_right\")\n",
    ")\n",
    "\n",
    "whole = df_neighborhoods[~df_neighborhoods.index.isin(self_intersections.index_left)]"
   ]
  },
  {
   "cell_type": "code",
   "execution_count": 6,
   "id": "631fa089",
   "metadata": {},
   "outputs": [],
   "source": [
    "df_neighborhoods_fixed = df_neighborhoods.copy()\n",
    "for _, row in self_intersections.iterrows():\n",
    "    outer = df_neighborhoods_fixed.loc[row[\"index_right\"], \"geometry\"]\n",
    "    inner = df_neighborhoods_fixed.loc[row[\"index_left\"], \"geometry\"]\n",
    "    df_neighborhoods_fixed.loc[row[\"index_right\"], \"geometry\"] = outer.difference(inner)\n",
    "\n",
    "df_neighborhoods_fixed = df_neighborhoods_fixed.set_index(\"ID\").drop(\n",
    "    columns=[\"orig_area\"],\n",
    ")"
   ]
  },
  {
   "cell_type": "markdown",
   "id": "c1bd5b2a",
   "metadata": {},
   "source": [
    "# Colonias a manzanas"
   ]
  },
  {
   "cell_type": "code",
   "execution_count": 7,
   "id": "1aac51b5",
   "metadata": {},
   "outputs": [],
   "source": [
    "neighborhoods_to_blocks_map = (\n",
    "    df_blocks[[\"geometry\"]]\n",
    "    .reset_index()\n",
    "    .assign(orig_block_area=lambda df: df[\"geometry\"].area)\n",
    "    .overlay(\n",
    "        df_neighborhoods_fixed[[\"geometry\"]].reset_index(names=\"neighborhood_id\"),\n",
    "        how=\"intersection\",\n",
    "    )\n",
    "    .assign(area_frac=lambda df: df[\"geometry\"].area / df[\"orig_block_area\"])\n",
    "    .sort_values(\"area_frac\", ascending=False)\n",
    "    .groupby([\"CVEGEO\"])\n",
    "    .first()\n",
    "    .reset_index()\n",
    "    .groupby(\"neighborhood_id\")[\"CVEGEO\"]\n",
    "    .apply(lambda x: list(set(x)))\n",
    "    .to_dict()\n",
    ")\n",
    "\n",
    "blocks_to_neighborhoods_map = {\n",
    "    block: neighborhood\n",
    "    for neighborhood, blocks in neighborhoods_to_blocks_map.items()\n",
    "    for block in blocks\n",
    "}\n",
    "\n",
    "with open(\"./colonias_a_manzanas.json\", \"w\") as f:\n",
    "    json.dump(neighborhoods_to_blocks_map, f, indent=4)"
   ]
  },
  {
   "cell_type": "code",
   "execution_count": 8,
   "id": "5a1fe1f7",
   "metadata": {},
   "outputs": [],
   "source": [
    "df_neighborhoods_final = (\n",
    "    df_neighborhoods_fixed.assign(\n",
    "        CVEGEO=df_neighborhoods_fixed.index.map(neighborhoods_to_blocks_map),\n",
    "    )[\"CVEGEO\"]\n",
    "    .explode()\n",
    "    .to_frame()\n",
    "    .reset_index(names=\"neighborhood_id\")\n",
    "    .merge(df_blocks.reset_index(), on=\"CVEGEO\", how=\"inner\")\n",
    "    .assign(GRAPROESxPOBTOT=lambda df: df[\"GRAPROES\"] * df[\"POBTOT\"])\n",
    "    .groupby(\"neighborhood_id\")\n",
    "    .agg(\n",
    "        {\n",
    "            \"POBTOT\": \"sum\",\n",
    "            \"P_0A2\": \"sum\",\n",
    "            \"P_3A5\": \"sum\",\n",
    "            \"P_0A5\": \"sum\",\n",
    "            \"P_18YMAS\": \"sum\",\n",
    "            \"P_60YMAS\": \"sum\",\n",
    "            \"P18YM_PB\": \"sum\",\n",
    "            \"TVIVPARHAB\": \"sum\",\n",
    "            \"GRAPROESxPOBTOT\": \"sum\",\n",
    "        },\n",
    "    )\n",
    "    .assign(GRAPROES=lambda df: (df[\"GRAPROESxPOBTOT\"] / df[\"POBTOT\"]).round(2))\n",
    "    .drop(columns=[\"GRAPROESxPOBTOT\"])\n",
    "    .assign(geometry=df_neighborhoods_fixed[\"geometry\"])\n",
    ")\n",
    "\n",
    "df_neighborhoods_final = gpd.GeoDataFrame(\n",
    "    df_neighborhoods_final,\n",
    "    crs=df_neighborhoods_fixed.crs,\n",
    "    geometry=\"geometry\",\n",
    ")\n",
    "\n",
    "df_neighborhoods_final = df_neighborhoods_final.join(\n",
    "    df_neighborhoods[[\"ID\", \"NOMBRE\"]].set_index(\"ID\"),\n",
    ").assign(\n",
    "    NOMBRE=lambda df: df[\"NOMBRE\"]\n",
    "    .str.casefold()\n",
    "    .replace({\"sin nombre\": np.nan, \"sin colonia\": np.nan}),\n",
    ")"
   ]
  },
  {
   "cell_type": "code",
   "execution_count": 9,
   "id": "03fb53db",
   "metadata": {},
   "outputs": [],
   "source": [
    "df_blocks = df_blocks.assign(\n",
    "    neighborhood_id=lambda df: df.index.map(blocks_to_neighborhoods_map),\n",
    ")"
   ]
  },
  {
   "cell_type": "markdown",
   "id": "c0ff5571",
   "metadata": {},
   "source": [
    "# Equipamientos"
   ]
  },
  {
   "cell_type": "code",
   "execution_count": 10,
   "id": "be73a952",
   "metadata": {},
   "outputs": [],
   "source": [
    "df_equip = load_all_equipments(data_path)"
   ]
  },
  {
   "cell_type": "markdown",
   "id": "74dccc99",
   "metadata": {},
   "source": [
    "# Stats"
   ]
  },
  {
   "cell_type": "code",
   "execution_count": 11,
   "id": "d5b97dc7",
   "metadata": {},
   "outputs": [],
   "source": [
    "rows = {}"
   ]
  },
  {
   "cell_type": "markdown",
   "id": "0d870ae7",
   "metadata": {},
   "source": [
    "## Población, área y viviendas totales"
   ]
  },
  {
   "cell_type": "code",
   "execution_count": 12,
   "id": "d79e7830",
   "metadata": {},
   "outputs": [],
   "source": [
    "rows[\"total_poblacion\"] = df_neighborhoods_final[\"POBTOT\"]\n",
    "rows[\"total_viviendas\"] = df_neighborhoods_final[\"TVIVPARHAB\"]\n",
    "rows[\"total_area_m2\"] = df_neighborhoods_final.to_crs(\"EPSG:6372\")[\"geometry\"].area"
   ]
  },
  {
   "cell_type": "markdown",
   "id": "7f0742b8",
   "metadata": {},
   "source": [
    "## Porcentaje población 0-5 años"
   ]
  },
  {
   "cell_type": "code",
   "execution_count": 13,
   "id": "507007bc",
   "metadata": {},
   "outputs": [],
   "source": [
    "rows[\"porcentaje_pob_0a5\"] = (\n",
    "    df_neighborhoods_final[\"P_0A2\"] + df_neighborhoods_final[\"P_3A5\"]\n",
    ") / df_neighborhoods_final[\"POBTOT\"]\n",
    "rows[\"total_pob_0a5\"] = (\n",
    "    df_neighborhoods_final[\"P_0A2\"] + df_neighborhoods_final[\"P_3A5\"]\n",
    ")"
   ]
  },
  {
   "cell_type": "markdown",
   "id": "7b28b66c",
   "metadata": {},
   "source": [
    "## Porcentaje de población >60"
   ]
  },
  {
   "cell_type": "code",
   "execution_count": 14,
   "id": "cd1b9c76",
   "metadata": {},
   "outputs": [],
   "source": [
    "rows[\"porcentaje_pob_60\"] = (\n",
    "    df_neighborhoods_final[\"P_60YMAS\"] / df_neighborhoods_final[\"POBTOT\"]\n",
    ")\n",
    "rows[\"total_pob_60\"] = df_neighborhoods_final[\"P_60YMAS\"]"
   ]
  },
  {
   "cell_type": "markdown",
   "id": "39e9b57e",
   "metadata": {},
   "source": [
    "## Porcentaje de población con menos de preparatoria terminada"
   ]
  },
  {
   "cell_type": "code",
   "execution_count": 15,
   "id": "950e5690",
   "metadata": {},
   "outputs": [],
   "source": [
    "rows[\"porcentaje_menos_prepa_terminada\"] = (\n",
    "    1 - df_neighborhoods_final[\"P18YM_PB\"] / df_neighborhoods_final[\"P_18YMAS\"]\n",
    ")\n",
    "rows[\"total_menos_prepa_terminada\"] = (\n",
    "    df_neighborhoods_final[\"P_18YMAS\"] - df_neighborhoods_final[\"P18YM_PB\"]\n",
    ")\n",
    "rows[\"total_pob_18\"] = df_neighborhoods_final[\"P_18YMAS\"]"
   ]
  },
  {
   "cell_type": "markdown",
   "id": "4b37e444",
   "metadata": {},
   "source": [
    "## Equipamientos"
   ]
  },
  {
   "cell_type": "code",
   "execution_count": 16,
   "id": "7fe9fa17",
   "metadata": {},
   "outputs": [],
   "source": [
    "df_equip = load_all_equipments(data_path)\n",
    "temp = intersect_gdf_with_equipments(df_neighborhoods_final, df_equip)\n",
    "\n",
    "for col in temp.columns:\n",
    "    rows[f\"num_equip_{col}\"] = temp[col]"
   ]
  },
  {
   "cell_type": "markdown",
   "id": "14ece364",
   "metadata": {},
   "source": [
    "## Marginación"
   ]
  },
  {
   "cell_type": "code",
   "execution_count": 17,
   "id": "b918c9f2",
   "metadata": {},
   "outputs": [],
   "source": [
    "unique_muns = set(df_agebs.index.str[:5])\n",
    "df_bienestar = (\n",
    "    pd.read_excel(data_path / \"datos\" / \"IMUC_2020.xlsx\", skiprows=3)\n",
    "    .rename(columns={\"NOM_COLONIA\": \"NOMBRE\"})\n",
    "    .dropna(subset=[\"CVE_MUN\"])\n",
    "    .assign(CVE_MUN=lambda df: df[\"CVE_MUN\"].astype(int).astype(str).str.zfill(5))\n",
    "    .query(\"CVE_MUN.isin(@unique_muns)\")\n",
    "    .sort_values(\"POB_TOT\", ascending=False)\n",
    "    .drop_duplicates(subset=[\"NOMBRE\"], keep=\"first\")\n",
    "    .filter([\"NOMBRE\", \"GM_2020\"])\n",
    "    .dropna(subset=[\"NOMBRE\"])\n",
    "    .assign(NOMBRE=lambda df: df[\"NOMBRE\"].str.casefold())\n",
    ")"
   ]
  },
  {
   "cell_type": "code",
   "execution_count": 18,
   "id": "948d4535",
   "metadata": {},
   "outputs": [],
   "source": [
    "df_neighborhoods_dup = df_neighborhoods_final.sort_values(\n",
    "    \"POBTOT\",\n",
    "    ascending=False,\n",
    ").drop_duplicates(subset=[\"NOMBRE\"], keep=\"first\")\n",
    "\n",
    "rows[\"indice_bienestar\"] = (\n",
    "    df_neighborhoods_dup.reset_index()\n",
    "    .merge(\n",
    "        df_bienestar,\n",
    "        on=\"NOMBRE\",\n",
    "        how=\"inner\",\n",
    "    )\n",
    "    .set_index(\"neighborhood_id\")\n",
    "    .reindex(df_neighborhoods_final.index, fill_value=np.nan)[\"GM_2020\"]\n",
    ")"
   ]
  },
  {
   "cell_type": "markdown",
   "id": "5bf7a193",
   "metadata": {},
   "source": [
    "## Industrias"
   ]
  },
  {
   "cell_type": "code",
   "execution_count": 19,
   "id": "f6a3ef71",
   "metadata": {},
   "outputs": [],
   "source": [
    "harmful_industries = gpd.read_file(results_path / \"harmful_industries.gpkg\")"
   ]
  },
  {
   "cell_type": "code",
   "execution_count": 20,
   "id": "c3d40aae",
   "metadata": {},
   "outputs": [],
   "source": [
    "df_neighborhoods_affected = (\n",
    "    df_blocks.filter([\"geometry\", \"P_0A5\", \"P_60YMAS\", \"TVIVPARHAB\", \"neighborhood_id\"])\n",
    "    .sjoin(harmful_industries[[\"geometry\"]], how=\"inner\", predicate=\"within\")\n",
    "    .reset_index(names=\"CVEGEO\")\n",
    "    .drop_duplicates(subset=\"CVEGEO\")\n",
    "    .assign(neighborhood_id=lambda df: df[\"neighborhood_id\"].astype(int))\n",
    "    .groupby(\"neighborhood_id\")\n",
    "    .agg({\"P_0A5\": \"sum\", \"P_60YMAS\": \"sum\", \"TVIVPARHAB\": \"sum\"})\n",
    ")\n",
    "\n",
    "rows[\"porcentaje_infantes_vulnerables_industria\"] = (\n",
    "    df_neighborhoods_affected[\"P_0A5\"] / df_neighborhoods_final[\"P_0A5\"]\n",
    ").fillna(0)\n",
    "rows[\"total_infantes_vulnerables_industria\"] = df_neighborhoods_affected[\"P_0A5\"]\n",
    "\n",
    "rows[\"porcentaje_adultos_mayores_vulnerables_industria\"] = (\n",
    "    df_neighborhoods_affected[\"P_60YMAS\"] / df_neighborhoods_final[\"P_60YMAS\"]\n",
    ").fillna(0)\n",
    "rows[\"total_adultos_mayores_vulnerables_industria\"] = df_neighborhoods_affected[\n",
    "    \"P_60YMAS\"\n",
    "]\n",
    "\n",
    "rows[\"porcentaje_viviendas_vulnerables_industria\"] = (\n",
    "    df_neighborhoods_affected[\"TVIVPARHAB\"] / df_neighborhoods_final[\"TVIVPARHAB\"]\n",
    ").fillna(0)\n",
    "rows[\"total_viviendas_vulnerables_industria\"] = df_neighborhoods_affected[\"TVIVPARHAB\"]"
   ]
  },
  {
   "cell_type": "markdown",
   "id": "5136b5ce",
   "metadata": {},
   "source": [
    "## Vulnerabilidad calor"
   ]
  },
  {
   "cell_type": "code",
   "execution_count": 21,
   "id": "b8d1d8c0",
   "metadata": {},
   "outputs": [],
   "source": [
    "rows[\"vulnerabilidad_calor\"] = (\n",
    "    gpd.read_file(data_path / \"datos\" / \"GUHVI\" / \"colonias_GUHVI.gpkg\")\n",
    "    .set_index(\"ID\")[\"guhvi_class\"]\n",
    "    .astype(int)\n",
    ")"
   ]
  },
  {
   "cell_type": "markdown",
   "id": "00a5b878",
   "metadata": {},
   "source": [
    "## Accesibilidad"
   ]
  },
  {
   "cell_type": "code",
   "execution_count": 22,
   "id": "b2a5fcf4",
   "metadata": {},
   "outputs": [],
   "source": [
    "df_neighborhoods_accessibility = (\n",
    "    gpd.read_file(\n",
    "        results_path / \"accessibility_blocks.gpkg\",\n",
    "    )\n",
    "    .set_index(\"CVEGEO\")\n",
    "    .assign(neighborhood_id=lambda df: df.index.map(blocks_to_neighborhoods_map))\n",
    "    .groupby(\"neighborhood_id\")\n",
    "    .agg(\n",
    "        {\n",
    "            \"accessibility_score\": \"mean\",\n",
    "            \"tiempo_parque\": \"mean\",\n",
    "            \"tiempo_clinica_hospital\": \"mean\",\n",
    "            \"tiempo_preparatoria\": \"mean\",\n",
    "            \"hogares_parque_15mi\": \"sum\",\n",
    "            \"hogares_clinica_hospital_30mi\": \"sum\",\n",
    "            \"hogares_preparatoria_30mi\": \"sum\",\n",
    "            \"TVIVPARHAB\": \"sum\",\n",
    "            \"geometry\": \"first\",\n",
    "        },\n",
    "    )\n",
    "    .assign(\n",
    "        porcentaje_hogares_parque_15mi=lambda df: df.apply(\n",
    "            lambda x: x[\"hogares_parque_15mi\"] / x[\"TVIVPARHAB\"]\n",
    "            if x[\"TVIVPARHAB\"] > 0\n",
    "            else 0,\n",
    "            axis=1,\n",
    "        ),\n",
    "        porcentaje_hogares_clinica_hospital_30mi=lambda df: df.apply(\n",
    "            lambda x: x[\"hogares_clinica_hospital_30mi\"] / x[\"TVIVPARHAB\"]\n",
    "            if x[\"TVIVPARHAB\"] > 0\n",
    "            else 0,\n",
    "            axis=1,\n",
    "        ),\n",
    "        porcentaje_hogares_preparatoria_30mi=lambda df: df.apply(\n",
    "            lambda x: x[\"hogares_preparatoria_30mi\"] / x[\"TVIVPARHAB\"]\n",
    "            if x[\"TVIVPARHAB\"] > 0\n",
    "            else 0,\n",
    "            axis=1,\n",
    "        ),\n",
    "    )\n",
    "    .drop(columns=[\"TVIVPARHAB\"])\n",
    "    .rename(\n",
    "        columns={\n",
    "            \"accessibility_score\": \"indice_accesibilidad\",\n",
    "            \"hogares_parque_15mi\": \"total_hogares_parque_15min\",\n",
    "            \"hogares_clinica_hospital_30mi\": \"total_hogares_clinica_hospital_30min\",\n",
    "            \"hogares_preparatoria_30mi\": \"total_hogares_preparatoria_30min\",\n",
    "            \"porcentaje_hogares_parque_15mi\": \"porcentaje_hogares_parque_15min\",\n",
    "            \"porcentaje_hogares_clinica_hospital_30mi\": \"porcentaje_hogares_clinica_hospital_30min\",\n",
    "            \"porcentaje_hogares_preparatoria_30mi\": \"porcentaje_hogares_preparatoria_30min\",\n",
    "        },\n",
    "    )\n",
    "    .reset_index(names=\"neighborhood_id\")\n",
    "    .assign(neighborhood_id=lambda df: df[\"neighborhood_id\"].astype(int))\n",
    "    .set_index(\"neighborhood_id\")\n",
    ")\n",
    "\n",
    "for column in df_neighborhoods_accessibility.drop(columns=[\"geometry\"]).columns:\n",
    "    rows[column] = df_neighborhoods_accessibility[column]"
   ]
  },
  {
   "cell_type": "markdown",
   "id": "793cb731",
   "metadata": {},
   "source": [
    "## Tráfico"
   ]
  },
  {
   "cell_type": "code",
   "execution_count": 23,
   "id": "cb551c20",
   "metadata": {},
   "outputs": [],
   "source": [
    "gdf_vialidades = gpd.read_file(results_path / \"vialidades.gpkg\")\n",
    "\n",
    "rows[\"tdpa_density\"] = calculate_tdpa_exposure(\n",
    "    df_neighborhoods_final.rename_axis(\"id\"),\n",
    "    gdf_vialidades,\n",
    "    threshold_km=500,\n",
    ")"
   ]
  },
  {
   "cell_type": "markdown",
   "id": "fc99d6ac",
   "metadata": {},
   "source": [
    "## Inundaciones"
   ]
  },
  {
   "cell_type": "code",
   "execution_count": 24,
   "id": "c19368a5",
   "metadata": {},
   "outputs": [],
   "source": [
    "is_flooded = pd.read_csv(results_path / \"flooded_blocks.csv\").set_index(\"CVEGEO\")[\n",
    "    \"is_flooded\"\n",
    "]"
   ]
  },
  {
   "cell_type": "code",
   "execution_count": 25,
   "id": "a3b7512a",
   "metadata": {},
   "outputs": [],
   "source": [
    "pop_flooded = (\n",
    "    df_blocks.assign(is_flooded=pd.Series(is_flooded))\n",
    "    .query(\"is_flooded\")\n",
    "    .groupby(\"neighborhood_id\")[\"POBTOT\"]\n",
    "    .sum()\n",
    ")\n",
    "\n",
    "rows[\"total_poblacion_inundada\"] = pop_flooded\n",
    "rows[\"porcentaje_poblacion_inundada\"] = (\n",
    "    pop_flooded / df_neighborhoods_final[\"POBTOT\"]\n",
    ").fillna(0)"
   ]
  },
  {
   "cell_type": "code",
   "execution_count": 26,
   "id": "d84d8728",
   "metadata": {},
   "outputs": [],
   "source": [
    "flooded_rows = []\n",
    "\n",
    "flooded_df = get_flooded_area(\n",
    "    data_path / \"datos\" / \"CdJuarez_60min\" / \"CdJuarez_60Min_Reclass.tif\",\n",
    "    df_neighborhoods_final,\n",
    ")\n",
    "rows[\"area_inundada_m2\"] = flooded_df[\"flooded_area\"]\n",
    "rows[\"porcentaje_area_inundada\"] = flooded_df[\"flooded_area_frac\"]"
   ]
  },
  {
   "cell_type": "markdown",
   "id": "b7c26219",
   "metadata": {},
   "source": [
    "# Out"
   ]
  },
  {
   "cell_type": "code",
   "execution_count": 27,
   "id": "d3ef2f7d",
   "metadata": {},
   "outputs": [
    {
     "data": {
      "application/vnd.microsoft.datawrangler.viewer.v0+json": {
       "columns": [
        {
         "name": "neighborhood_id",
         "rawType": "int32",
         "type": "integer"
        },
        {
         "name": "NOMBRE",
         "rawType": "object",
         "type": "unknown"
        }
       ],
       "ref": "3e9cd8b2-495c-4c71-aa01-e60521781a58",
       "rows": [
        [
         "1",
         "vista del norte"
        ],
        [
         "2",
         "excelencia universidad"
        ],
        [
         "3",
         "del futuro"
        ],
        [
         "4",
         "condesa"
        ],
        [
         "6",
         "misiones de san miguel"
        ],
        [
         "7",
         "villahermosa"
        ],
        [
         "8",
         "el campanario"
        ],
        [
         "9",
         "los lagos"
        ],
        [
         "10",
         "la raza"
        ],
        [
         "11",
         "fovissste sur"
        ],
        [
         "12",
         "los saucos"
        ],
        [
         "13",
         "puerta del sol"
        ],
        [
         "14",
         "paseo del rio"
        ],
        [
         "15",
         "pinar del rio"
        ],
        [
         "16",
         "villas jardin"
        ],
        [
         "17",
         "las palomas"
        ],
        [
         "18",
         "la cuesta"
        ],
        [
         "19",
         "mexico"
        ],
        [
         "20",
         "san lorenzo"
        ],
        [
         "21",
         "vistas del bravo"
        ],
        [
         "22",
         "fidel velazquez"
        ],
        [
         "23",
         "2da burocrata"
        ],
        [
         "24",
         "santa monica"
        ],
        [
         "25",
         "magnolias"
        ],
        [
         "26",
         "la presa"
        ],
        [
         "27",
         "cordova americas"
        ],
        [
         "28",
         "olmos"
        ],
        [
         "29",
         "nuevo milenio"
        ],
        [
         "30",
         "del bravo"
        ],
        [
         "31",
         "la playa"
        ],
        [
         "32",
         "las villas"
        ],
        [
         "33",
         "del valle"
        ],
        [
         "34",
         "jardines campestre"
        ],
        [
         "35",
         "lomas del rey"
        ],
        [
         "36",
         "san lorenzo"
        ],
        [
         "37",
         "alfa"
        ],
        [
         "38",
         "valle del sol"
        ],
        [
         "39",
         "minerva"
        ],
        [
         "40",
         "colinas de juarez"
        ],
        [
         "41",
         "progresista"
        ],
        [
         "42",
         "antares"
        ],
        [
         "43",
         "pancho villa"
        ],
        [
         "44",
         "villas del bravo"
        ],
        [
         "45",
         "lomas de san jose"
        ],
        [
         "46",
         "americas"
        ],
        [
         "47",
         "margaritas"
        ],
        [
         "48",
         "nuevo hipodromo"
        ],
        [
         "49",
         "alamos pronaf"
        ],
        [
         "50",
         "andres figueroa"
        ],
        [
         "51",
         "monumental"
        ]
       ],
       "shape": {
        "columns": 1,
        "rows": 977
       }
      },
      "text/plain": [
       "neighborhood_id\n",
       "1                      vista del norte\n",
       "2               excelencia universidad\n",
       "3                           del futuro\n",
       "4                              condesa\n",
       "6               misiones de san miguel\n",
       "                     ...              \n",
       "3480    campos eliseos (cerrada norte)\n",
       "3486         kali residencial etapa ii\n",
       "3488                   ejido salvarcar\n",
       "3491                     antonio silva\n",
       "3500        roma (complejo industrial)\n",
       "Name: NOMBRE, Length: 977, dtype: object"
      ]
     },
     "execution_count": 27,
     "metadata": {},
     "output_type": "execute_result"
    }
   ],
   "source": [
    "df_neighborhoods_final[\"NOMBRE\"]"
   ]
  },
  {
   "cell_type": "code",
   "execution_count": 28,
   "id": "8f9124e9",
   "metadata": {},
   "outputs": [],
   "source": [
    "out = (\n",
    "    gpd.GeoDataFrame(\n",
    "        pd.DataFrame.from_dict(rows, orient=\"index\")\n",
    "        .transpose()\n",
    "        .join(df_neighborhoods_final[[\"NOMBRE\", \"geometry\"]]),\n",
    "        crs=df_neighborhoods_final.crs,\n",
    "        geometry=\"geometry\",\n",
    "    )\n",
    "    .to_crs(\"EPSG:4326\")\n",
    "    .rename(columns={\"NOMBRE\": \"nombre\"})\n",
    "    .reset_index(names=\"id_colonia\")\n",
    ")\n",
    "\n",
    "for c in out.columns:\n",
    "    if (\n",
    "        not c.startswith(\"indice\")\n",
    "        and c != \"geometry\"\n",
    "        and c != \"nombre\"\n",
    "        and c != \"id_colonia\"\n",
    "    ):\n",
    "        out[c] = out[c].astype(float)\n",
    "\n",
    "out.to_file(results_path / \"platform\" / \"colonias.geojson\")\n",
    "out.drop(columns=[\"geometry\"]).to_csv(\n",
    "    results_path / \"platform\" / \"colonias.csv\",\n",
    "    index=False,\n",
    ")"
   ]
  }
 ],
 "metadata": {
  "kernelspec": {
   "display_name": "nad-py3.12",
   "language": "python",
   "name": "python3"
  },
  "language_info": {
   "codemirror_mode": {
    "name": "ipython",
    "version": 3
   },
   "file_extension": ".py",
   "mimetype": "text/x-python",
   "name": "python",
   "nbconvert_exporter": "python",
   "pygments_lexer": "ipython3",
   "version": "3.12.9"
  }
 },
 "nbformat": 4,
 "nbformat_minor": 5
}
