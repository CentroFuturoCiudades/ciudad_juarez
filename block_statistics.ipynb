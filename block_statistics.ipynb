{
 "cells": [
  {
   "cell_type": "code",
   "execution_count": 18,
   "id": "8e145705",
   "metadata": {},
   "outputs": [],
   "source": [
    "import os\n",
    "from pathlib import Path\n",
    "\n",
    "import geopandas as gpd\n",
    "import numpy as np\n",
    "import pandas as pd"
   ]
  },
  {
   "cell_type": "code",
   "execution_count": 2,
   "id": "f68bffcc",
   "metadata": {},
   "outputs": [],
   "source": [
    "data_path = Path(os.environ[\"DATA_PATH\"])\n",
    "population_grids_path = Path(os.environ[\"POPULATION_GRIDS_PATH\"])\n",
    "geostatistical_framework_path = Path(os.environ[\"GEOSTATISTICAL_FRAMEWORK_PATH\"])\n",
    "census_path = Path(os.environ[\"CENSUS_PATH\"])"
   ]
  },
  {
   "cell_type": "code",
   "execution_count": 30,
   "id": "6dad0911",
   "metadata": {},
   "outputs": [],
   "source": [
    "df_agebs = (\n",
    "    gpd.read_file(\n",
    "        population_grids_path\n",
    "        / \"final\"\n",
    "        / \"zone_agebs\"\n",
    "        / \"shaped\"\n",
    "        / \"2020\"\n",
    "        / \"08.2.03.gpkg\",\n",
    "    )\n",
    "    .drop(columns=[\"POBTOT\"])\n",
    "    .set_index(\"CVEGEO\")\n",
    ")\n",
    "\n",
    "df_blocks = (\n",
    "    gpd.read_file(geostatistical_framework_path / \"2020\" / \"08_chihuahua\" / \"08m.shp\")\n",
    "    .assign(CVEGEO_AGEB=lambda x: x.CVEGEO.str[:13])\n",
    "    .query(\"CVEGEO_AGEB in @df_agebs.index\")\n",
    "    .drop(columns=[\"CVEGEO_AGEB\"])\n",
    "    .set_index(\"CVEGEO\")\n",
    "    .to_crs(\"EPSG:6372\")\n",
    ")\n",
    "\n",
    "df_neighborhoods = gpd.read_file(\"./fixed.gpkg\").set_index(\"ID\")"
   ]
  },
  {
   "cell_type": "code",
   "execution_count": 39,
   "id": "9f1e5cf1",
   "metadata": {},
   "outputs": [],
   "source": [
    "df_census = (\n",
    "    pd.read_csv(\n",
    "        census_path / \"2020\" / \"08.csv\",\n",
    "        usecols=[\"ENTIDAD\", \"MUN\", \"LOC\", \"AGEB\", \"MZA\", \"POBTOT\", \"P_60YMAS\"],\n",
    "    )\n",
    "    .assign(\n",
    "        CVEGEO=lambda df: (\n",
    "            df[\"ENTIDAD\"].astype(str).str.zfill(2)\n",
    "            + df[\"MUN\"].astype(str).str.zfill(3)\n",
    "            + df[\"LOC\"].astype(str).str.zfill(4)\n",
    "            + df[\"AGEB\"].astype(str).str.zfill(4)\n",
    "            + df[\"MZA\"].astype(str).str.zfill(3)\n",
    "        ),\n",
    "    )\n",
    "    .set_index(\"CVEGEO\")\n",
    "    .drop(columns=[\"ENTIDAD\", \"MUN\", \"LOC\", \"AGEB\", \"MZA\"])\n",
    "    .replace([\"*\", \"N/D\"], np.nan)\n",
    "    .astype(float)\n",
    ")"
   ]
  },
  {
   "cell_type": "code",
   "execution_count": 41,
   "id": "b5d25680",
   "metadata": {},
   "outputs": [],
   "source": [
    "joined = (\n",
    "    df_blocks.assign(orig_area=lambda df: df[\"geometry\"].area)\n",
    "    .reset_index()\n",
    "    .overlay(df_neighborhoods.reset_index(names=\"neighborhood_id\"))\n",
    "    .assign(inter_area_frac=lambda df: df[\"geometry\"].area / df[\"orig_area\"])\n",
    "    .sort_values(\"inter_area_frac\", ascending=False)\n",
    "    .groupby(\"CVEGEO\")\n",
    "    .first()\n",
    "    .query(\"inter_area_frac >= 0.9\")\n",
    ")\n",
    "\n",
    "df_blocks_extended = df_blocks.assign(neighborhood=joined[\"neighborhood_id\"]).assign(\n",
    "    neighborhood=lambda df: df[\"neighborhood\"].fillna(0).astype(int),\n",
    ")\n",
    "# df_blocks_extended.query(\"neighborhood.isna()\").to_file(\"./test.gpkg\")"
   ]
  },
  {
   "cell_type": "code",
   "execution_count": 51,
   "id": "6689b2b0",
   "metadata": {},
   "outputs": [],
   "source": [
    "df_neighborhoods_extended = (\n",
    "    df_blocks_extended.join(df_census[[\"POBTOT\", \"P_60YMAS\"]])\n",
    "    .groupby(\"neighborhood\")\n",
    "    .agg(\n",
    "        {\n",
    "            \"POBTOT\": \"sum\",\n",
    "            \"P_60YMAS\": \"sum\",\n",
    "        },\n",
    "    )\n",
    ")"
   ]
  },
  {
   "cell_type": "code",
   "execution_count": 52,
   "id": "c9e3303f",
   "metadata": {},
   "outputs": [],
   "source": [
    "rows = {}\n",
    "rows[\"porcentaje_pob_60\"] = (\n",
    "    df_neighborhoods_extended[\"P_60YMAS\"] / df_neighborhoods_extended[\"POBTOT\"]\n",
    ")"
   ]
  },
  {
   "cell_type": "code",
   "execution_count": 66,
   "id": "fa49fd05",
   "metadata": {},
   "outputs": [],
   "source": [
    "out = (\n",
    "    pd.DataFrame.from_dict(rows, orient=\"index\")\n",
    "    .transpose()\n",
    "    .assign(\n",
    "        name=df_neighborhoods[\"NOMBRE\"],\n",
    "        geometry=df_neighborhoods[\"geometry\"],\n",
    "    )\n",
    "    .drop(index=[0])\n",
    ")\n",
    "out = gpd.GeoDataFrame(out, crs=df_neighborhoods.crs).to_crs(\"EPSG:4326\")"
   ]
  },
  {
   "cell_type": "code",
   "execution_count": 67,
   "id": "8c06a07b",
   "metadata": {},
   "outputs": [],
   "source": [
    "out.to_file(\"./neighborhoods.geojson\")"
   ]
  }
 ],
 "metadata": {
  "kernelspec": {
   "display_name": "nad",
   "language": "python",
   "name": "python3"
  },
  "language_info": {
   "codemirror_mode": {
    "name": "ipython",
    "version": 3
   },
   "file_extension": ".py",
   "mimetype": "text/x-python",
   "name": "python",
   "nbconvert_exporter": "python",
   "pygments_lexer": "ipython3",
   "version": "3.12.8"
  }
 },
 "nbformat": 4,
 "nbformat_minor": 5
}
